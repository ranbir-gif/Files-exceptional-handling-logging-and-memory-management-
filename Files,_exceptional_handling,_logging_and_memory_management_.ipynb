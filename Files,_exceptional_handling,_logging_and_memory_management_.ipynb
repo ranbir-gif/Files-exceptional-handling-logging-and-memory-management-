{
  "nbformat": 4,
  "nbformat_minor": 0,
  "metadata": {
    "colab": {
      "provenance": []
    },
    "kernelspec": {
      "name": "python3",
      "display_name": "Python 3"
    },
    "language_info": {
      "name": "python"
    }
  },
  "cells": [
    {
      "cell_type": "markdown",
      "source": [
        "# Files, exceptional handling, logging and memory management Questions"
      ],
      "metadata": {
        "id": "2AMRqglPX0Y0"
      }
    },
    {
      "cell_type": "markdown",
      "source": [
        "1. What is the difference between interpreted and compiled languages?\n",
        "  - Compiled languages are converted into machine code before the program runs, using a compiler. This makes them fast but you must compile the code first. Examples: C, C++.\n",
        "  Interpreted languages are read and run line by line by an interpreter, so they are easier to test and run quickly without compiling. Examples: Python, JavaScript.\n",
        "  Compiled languages are faster in execution, while interpreted ones are more flexible and easier to debug."
      ],
      "metadata": {
        "id": "3WG1i1MMX7_-"
      }
    },
    {
      "cell_type": "markdown",
      "source": [
        "2. What is exception handling in Python?\n",
        "  - Exception handling in Python is a way to deal with errors that happen while a program is running. Instead of the program crashing, you can use try and except blocks to catch the error and respond to it safely. For example, if you try to divide by zero, Python can show a message instead of stopping the program. You can also use finally to run code no matter what happens. This helps make your programs more reliable and user-friendly."
      ],
      "metadata": {
        "id": "PwWyv-pcGTTJ"
      }
    },
    {
      "cell_type": "markdown",
      "source": [
        "3. What is the purpose of the finally block in exception handling?\n",
        "  - The finally block in Python is used in exception handling to run some code no matter what happens — whether an error occurs or not. It always runs after the try and except blocks. This is useful for actions like closing a file or cleaning up resources that should happen no matter what. Think of it as a way to say, “do this cleanup work no matter how the program runs.”"
      ],
      "metadata": {
        "id": "dT2SxvLxHLjP"
      }
    },
    {
      "cell_type": "markdown",
      "source": [
        "4. What is logging in Python?\n",
        "  - Logging in Python is a way to keep track of what your program is doing while it runs. Instead of using print() statements to debug or show messages, you can use the logging module to write messages with different levels like info, warning, or error. These messages can go to the screen or be saved in a file. This helps you understand and fix problems later, especially in large or long-running programs. Logging is better than print because it's more flexible and professional."
      ],
      "metadata": {
        "id": "TX7B-DvGHogH"
      }
    },
    {
      "cell_type": "markdown",
      "source": [
        "5. What is the significance of the _ _del_ _ method in Python?\n",
        "  - The _ _del_ _ method in Python is called automatically when an object is deleted or no longer used. It is like a cleanup function. You can use it to close files, disconnect from a network, or free up resources before the object is removed from memory. It helps make sure things are cleaned up properly. But be careful — Python doesn't guarantee exactly when _ _del_ _ will run, so it’s better to use it only when needed and not for important tasks like saving data."
      ],
      "metadata": {
        "id": "5I5mexUyH7U3"
      }
    },
    {
      "cell_type": "markdown",
      "source": [
        "6. What is the difference between import and from ... import in Python?\n",
        "  - ChatGPT said:\n",
        "In Python, import is used to bring in an entire module so you can use all its functions and classes by writing the module name first. For example, import math lets you use math.sqrt(). On the other hand, from ... import allows you to import only specific parts of a module, so you can use them directly without writing the module name. For example, from math import sqrt lets you use just sqrt(). The main difference is that import loads the whole module, while from ... import loads only selected parts."
      ],
      "metadata": {
        "id": "AJbd_rCKIf5V"
      }
    },
    {
      "cell_type": "markdown",
      "source": [
        "7. How can you handle multiple exceptions in Python?\n",
        "  - In Python, you can handle multiple exceptions by using multiple except blocks, each for a different type of error. This lets you write different messages or actions for different problems. For example, one except can catch a ZeroDivisionError, and another can catch a ValueError. You can also handle multiple exceptions in one line using parentheses. This keeps your program from crashing and helps you respond to each error properly."
      ],
      "metadata": {
        "id": "Y-P924hDKh83"
      }
    },
    {
      "cell_type": "markdown",
      "source": [
        "8. What is the purpose of the with statement when handling files in Python?\n",
        "  - The with statement in Python is used when working with files to make sure they are opened and closed properly. When you open a file using with, Python automatically closes the file after you're done with it, even if an error happens. This makes your code cleaner and safer. You don’t need to write file.close()—Python does it for you."
      ],
      "metadata": {
        "id": "3tvr2LW0LXuh"
      }
    },
    {
      "cell_type": "markdown",
      "source": [
        "9. What is the difference between multithreading and multiprocessing?\n",
        "  - Multithreading and multiprocessing are both ways to do many tasks at the same time in Python.\n",
        "\n",
        "  Multithreading runs multiple threads (small tasks) within the same program. They share the same memory and are good for tasks like downloading files or handling user input.\n",
        "\n",
        "  Multiprocessing runs multiple processes (separate programs) using separate memory, which makes it better for heavy tasks like big calculations."
      ],
      "metadata": {
        "id": "UxevVNzML15H"
      }
    },
    {
      "cell_type": "markdown",
      "source": [
        "10. What are the advantages of using logging in a program?\n",
        "  - Logging helps you keep track of what your program is doing while it runs. It’s better than using print() because you can write messages with different levels like info, warning, or error. You can also save these messages to a file to check later. This is useful for finding bugs, understanding what went wrong, and monitoring how your program works over time. Logging makes your program easier to fix and more professional, especially when it gets bigger or more complex."
      ],
      "metadata": {
        "id": "o0SIfm3YMrkU"
      }
    },
    {
      "cell_type": "markdown",
      "source": [
        "11. What is memory management in Python?\n",
        "  - Memory management in Python is how Python handles the use of computer memory while your program runs. It takes care of storing and cleaning up data like numbers, strings, and objects automatically. Python uses something called automatic garbage collection to remove data that’s no longer needed, so memory isn’t wasted. You don’t need to manage memory manually—Python does most of it for you. This helps your program run smoothly and avoids memory leaks (when memory is not freed). It's one of the reasons Python is easy to use for beginners."
      ],
      "metadata": {
        "id": "P1SATbMLNEaI"
      }
    },
    {
      "cell_type": "markdown",
      "source": [
        "12. What are the basic steps involved in exception handling in Python?\n",
        "  - In Python, exception handling helps you deal with errors so your program doesn’t crash. The basic steps are:\n",
        "\n",
        "  Use a try block to write the code that might cause an error.\n",
        "\n",
        "  Use one or more except blocks to catch and handle specific errors.\n",
        "\n",
        "  You can add an else block to run code if no error happens.\n",
        "\n",
        "  Use a finally block to write code that should run no matter what, like closing a file.\n",
        "\n",
        "This way, your program can keep running smoothly even if something goes wrong."
      ],
      "metadata": {
        "id": "kdxv7KodNqRt"
      }
    },
    {
      "cell_type": "markdown",
      "source": [
        "13. Why is memory management important in Python?\n",
        "  - Memory management is important in Python because it helps your program use the computer's memory wisely. When your program creates variables, stores data, or uses objects, it takes up memory. If old or unused data is not removed, it can slow down your program or even cause it to crash. Python has a built-in system called garbage collection that automatically removes things that are no longer needed. This keeps your program fast and efficient. Good memory management also makes sure your program runs well, especially when it gets bigger or runs for a long time. It keeps everything clean and organized."
      ],
      "metadata": {
        "id": "pVTYIZyuO7gk"
      }
    },
    {
      "cell_type": "markdown",
      "source": [
        "14. What is the role of try and except in exception handling?\n",
        "  - In Python, the try and except blocks are used to handle errors so your program doesn’t crash. You put the code that might cause an error inside the try block. If an error happens, Python jumps to the except block and runs that code instead of stopping the program. This helps you show a friendly message or take a different action when something goes wrong."
      ],
      "metadata": {
        "id": "wLBTb7n4PW-_"
      }
    },
    {
      "cell_type": "markdown",
      "source": [
        "15. How does Python's garbage collection system work?\n",
        "  - Python’s garbage collection system helps clean up memory by removing objects that are no longer needed. When you create a variable or object, Python stores it in memory. If nothing is using that object anymore, Python automatically deletes it to free up space. It does this using something called reference counting—each object keeps track of how many things are using it. When the count goes to zero, Python knows it can safely delete it. Python also has a garbage collector that finds and removes groups of unused objects. This helps your program run smoothly and avoids memory waste."
      ],
      "metadata": {
        "id": "oSVxYQGYP7fG"
      }
    },
    {
      "cell_type": "markdown",
      "source": [
        "16. What is the purpose of the else block in exception handling?\n",
        "  - The else block in Python exception handling is used to write code that should run only if no error happens in the try block. It comes after the try and except blocks. If the code in try works without any problems, the else block runs. But if there is an error, Python skips the else block and goes to except. This helps you keep normal code separate from error-handling code, making your program easier to read and understand."
      ],
      "metadata": {
        "id": "iDcfO3IZRJpC"
      }
    },
    {
      "cell_type": "markdown",
      "source": [
        "17. What are the common logging levels in Python?\n",
        "  - In Python, logging levels are used to show how important a message is. There are five common levels:\n",
        "\n",
        "  DEBUG – Lowest level, used for small details while testing.\n",
        "\n",
        "  INFO – Shows general information about the program’s progress.\n",
        "\n",
        "  WARNING – Tells you something might be wrong, but the program can still run.\n",
        "\n",
        "  ERROR – Something went wrong and needs to be fixed.\n",
        "\n",
        "  CRITICAL – A serious problem that may stop the program.\n",
        "\n",
        "You choose the right level depending on how important the message is. This helps you understand and fix problems in your program more easily."
      ],
      "metadata": {
        "id": "YmGiG8UhRtPH"
      }
    },
    {
      "cell_type": "markdown",
      "source": [
        "18. What is the difference between os.fork() and multiprocessing in Python?\n",
        "  - In Python, os.fork() and the multiprocessing module are both used to create new processes, but they work differently.\n",
        "\n",
        "  os.fork() is a low-level function that works only on Unix/Linux systems. It creates a child process that is a copy of the parent, but you have to manage everything yourself.\n",
        "\n",
        "  multiprocessing is a built-in Python module that works on all platforms, including Windows. It makes creating and managing multiple processes easier and safer."
      ],
      "metadata": {
        "id": "pa1Rk2tBXDb7"
      }
    },
    {
      "cell_type": "markdown",
      "source": [
        "19. What is the importance of closing a file in Python?\n",
        "  - Closing a file in Python is important because it tells the computer that you are done using the file. When you open a file to read or write, Python uses system resources to keep it open. If you forget to close it, it can cause problems like losing data, file corruption, or using too much memory. Closing a file also makes sure that all the data you wrote to the file is saved properly. You can close a file using the close() method, or better, use the with statement so Python closes it automatically after you're done. This keeps your code safe and clean."
      ],
      "metadata": {
        "id": "-FJrEt-eaQE8"
      }
    },
    {
      "cell_type": "markdown",
      "source": [
        "20. What is the difference between file.read() and file.readline() in Python?\n",
        "  - In Python, file.read() and file.readline() are both used to read from a file, but they work differently.\n",
        "\n",
        "  file.read() reads the whole file at once and returns it as one big string.\n",
        "\n",
        "  file.readline() reads just one line at a time, stopping at the newline character (\\n).\n",
        "\n",
        "  If your file is small, read() is fine. But if the file is large or you want to process it line by line, readline() is better."
      ],
      "metadata": {
        "id": "lR6LCWehe6p2"
      }
    },
    {
      "cell_type": "markdown",
      "source": [
        "21. What is the logging module in Python used for?\n",
        "  - The logging module in Python is used to record messages about what your program is doing. It helps you keep track of events, errors, and important information while the program runs. Instead of using print(), you can use logging to write messages with different levels like info, warning, or error. These messages can be shown on the screen or saved in a file. This is very helpful for finding and fixing problems, especially in big or long-running programs. Logging makes your code easier to understand and maintain."
      ],
      "metadata": {
        "id": "IQvkf1TPgq6C"
      }
    },
    {
      "cell_type": "markdown",
      "source": [
        "22. What is the os module in Python used for in file handling?\n",
        "  - The os module in Python is used to work with files and folders on your computer. It lets you do things like create folders, delete files, rename files, and check if a file exists. You can also use it to find the current working directory or change to a different one. This module helps your Python program talk to the operating system (Windows, Mac, or Linux). It's very useful when you want to manage files and folders through code instead of doing it by hand."
      ],
      "metadata": {
        "id": "I2uSblzTg4_i"
      }
    },
    {
      "cell_type": "markdown",
      "source": [
        "23. What are the challenges associated with memory management in Python?\n",
        "  - Memory management in Python is mostly automatic, but it still has some challenges. One challenge is memory leaks, which happen when the program keeps holding onto data it doesn’t need anymore. This can slow down the program or use too much memory. Another challenge is circular references, where two objects refer to each other, making it harder for Python to delete them. Also, managing large amounts of data can be tricky if you're not careful with how you store and delete things. Even though Python helps with memory, you still need to write clean code and avoid unnecessary objects."
      ],
      "metadata": {
        "id": "N_phCrtAhQqq"
      }
    },
    {
      "cell_type": "markdown",
      "source": [
        "24. How do you raise an exception manually in Python?\n",
        "  - In Python, you can raise an exception manually using the raise keyword. This is helpful when you want to stop the program and show an error message if something is wrong. You choose the type of error (like ValueError or TypeError) and add a message to explain what happened."
      ],
      "metadata": {
        "id": "cPYXkGLzh7eg"
      }
    },
    {
      "cell_type": "markdown",
      "source": [
        "25. Why is it important to use multithreading in certain applications?\n",
        "  - Multithreading is important in some applications because it helps your program do many tasks at the same time. For example, a game can play music, take user input, and update the screen all at once using threads. It makes programs run faster and smoother, especially when they are waiting for things like user input, web data, or file loading. Instead of doing one thing at a time, multithreading lets your program stay active and responsive. It’s very useful in apps like games, chat programs, or websites where many things happen at once."
      ],
      "metadata": {
        "id": "IP6USAMHif-O"
      }
    },
    {
      "cell_type": "markdown",
      "source": [
        "# Practical Questions"
      ],
      "metadata": {
        "id": "ZgjLmFQ0i5dt"
      }
    },
    {
      "cell_type": "code",
      "execution_count": 1,
      "metadata": {
        "id": "imq_EH_lXd3n"
      },
      "outputs": [],
      "source": [
        "# 1. How can you open a file for writing in Python and write a string to it?\n",
        "\n",
        "# Open the file in write mode\n",
        "file = open(\"myfile.txt\", \"w\")\n",
        "\n",
        "# Write a string to the file\n",
        "file.write(\"Hello, this is a sample text.\")\n",
        "\n",
        "# Close the file\n",
        "file.close()\n"
      ]
    },
    {
      "cell_type": "code",
      "source": [
        "# 2. Write a Python program to read the contents of a file and print each line.\n",
        "\n",
        "def read_and_print_file(filename):\n",
        "    \"\"\"\n",
        "    Reads the contents of a specified file line by line and prints each line.\n",
        "\n",
        "    Args:\n",
        "        filename (str): The path to the file to be read.\n",
        "    \"\"\"\n",
        "    try:\n",
        "        with open(filename, 'r') as file:\n",
        "            for line in file:\n",
        "                print(line.strip())  # .strip() removes leading/trailing whitespace, including newlines\n",
        "    except FileNotFoundError:\n",
        "        print(f\"Error: The file '{filename}' was not found.\")\n",
        "    except Exception as e:\n",
        "        print(f\"An error occurred: {e}\")\n",
        "\n",
        "# Example usage:\n",
        "if __name__ == \"__main__\":\n",
        "    file_to_read = \"example.txt\"\n",
        "\n",
        "    try:\n",
        "        with open(file_to_read, 'x') as f:\n",
        "            f.write(\"This is line 1.\\n\")\n",
        "            f.write(\"This is line 2.\\n\")\n",
        "            f.write(\"And this is line 3.\\n\")\n",
        "    except FileExistsError:\n",
        "        pass  # File already exists, no need to create it again\n",
        "\n",
        "    read_and_print_file(file_to_read)"
      ],
      "metadata": {
        "colab": {
          "base_uri": "https://localhost:8080/"
        },
        "id": "ujXjEPmejf5v",
        "outputId": "7b698ecc-edcb-4455-b5ba-444e191648ec"
      },
      "execution_count": 10,
      "outputs": [
        {
          "output_type": "stream",
          "name": "stdout",
          "text": [
            "This is line 1.\n",
            "This is line 2.\n",
            "And this is line 3.\n"
          ]
        }
      ]
    },
    {
      "cell_type": "code",
      "source": [
        "# 3. How would you handle a case where the file doesn't exist while trying to open it for reading?\n",
        "\n",
        "try:\n",
        "    with open(\"my_important_data.txt\", \"r\") as file:\n",
        "        content = file.read()\n",
        "        print(\"File content:\", content)\n",
        "except FileNotFoundError:\n",
        "    print(\"Error: The file 'my_important_data.txt' was not found. Please ensure it exists.\")"
      ],
      "metadata": {
        "colab": {
          "base_uri": "https://localhost:8080/"
        },
        "id": "kl2Hix6gjw8u",
        "outputId": "0d891138-1977-441f-a117-6e7cad9206af"
      },
      "execution_count": 7,
      "outputs": [
        {
          "output_type": "stream",
          "name": "stdout",
          "text": [
            "Error: The file 'my_important_data.txt' was not found. Please ensure it exists.\n"
          ]
        }
      ]
    },
    {
      "cell_type": "code",
      "source": [
        "# 4.  Write a Python script that reads from one file and writes its content to another file.\n",
        "\n",
        "def copy_file_content(source_file_path, destination_file_path):\n",
        "    \"\"\"\n",
        "    Reads the content of a source file and writes it to a destination file.\n",
        "\n",
        "    Args:\n",
        "        source_file_path (str): The path to the file to read from.\n",
        "        destination_file_path (str): The path to the file to write to.\n",
        "    \"\"\"\n",
        "    try:\n",
        "        with open(source_file_path, 'r') as source_file:\n",
        "            content = source_file.read()\n",
        "\n",
        "        with open(destination_file_path, 'w') as destination_file:\n",
        "            destination_file.write(content)\n",
        "\n",
        "        print(f\"Content from '{source_file_path}' successfully copied to '{destination_file_path}'.\")\n",
        "\n",
        "    except FileNotFoundError:\n",
        "        print(f\"Error: One of the files was not found. Please check the paths.\")\n",
        "    except Exception as e:\n",
        "        print(f\"An error occurred: {e}\")\n",
        "\n",
        "with open(\"source.txt\", \"w\") as f:\n",
        "    f.write(\"This is some content from the source file.\\n\")\n",
        "    f.write(\"This is the second line.\\n\")\n",
        "\n",
        "copy_file_content(\"source.txt\", \"destination.txt\")"
      ],
      "metadata": {
        "colab": {
          "base_uri": "https://localhost:8080/"
        },
        "id": "ygpq4CCXl_tT",
        "outputId": "aa6eb8de-62dd-417e-b2ef-5f7849c8366d"
      },
      "execution_count": 12,
      "outputs": [
        {
          "output_type": "stream",
          "name": "stdout",
          "text": [
            "Content from 'source.txt' successfully copied to 'destination.txt'.\n"
          ]
        }
      ]
    },
    {
      "cell_type": "code",
      "source": [
        "# 5. How would you catch and handle division by zero error in Python?\n",
        "\n",
        "try:\n",
        "    numerator = 10\n",
        "    denominator = 0\n",
        "    result = numerator / denominator\n",
        "    print(f\"The result is: {result}\")\n",
        "except ZeroDivisionError:\n",
        "    print(\"Error: Cannot divide by zero!\")\n",
        "\n",
        "    result = None\n",
        "    print(f\"Result after error handling: {result}\")"
      ],
      "metadata": {
        "colab": {
          "base_uri": "https://localhost:8080/"
        },
        "id": "h8_XNjyMoQoP",
        "outputId": "b8e1b5b8-a316-4114-a146-2068032317c7"
      },
      "execution_count": 14,
      "outputs": [
        {
          "output_type": "stream",
          "name": "stdout",
          "text": [
            "Error: Cannot divide by zero!\n",
            "Result after error handling: None\n"
          ]
        }
      ]
    },
    {
      "cell_type": "code",
      "source": [
        "# 6. Write a Python program that logs an error message to a log file when a division by zero exception occurs.\n",
        "\n",
        "import logging\n",
        "\n",
        "# Configure the logging system\n",
        "logging.basicConfig(\n",
        "    filename='error.log',         # Log file name\n",
        "    level=logging.ERROR,          # Set level to log only errors and above\n",
        "    format='%(asctime)s - %(levelname)s - %(message)s'\n",
        ")\n",
        "\n",
        "try:\n",
        "    num = 10\n",
        "    result = num / 0  # This will raise ZeroDivisionError\n",
        "    print(\"Result:\", result)\n",
        "except ZeroDivisionError as e:\n",
        "    logging.error(\"Division by zero occurred: %s\", e)\n",
        "    print(\"An error occurred. Check the log file for details.\")\n"
      ],
      "metadata": {
        "colab": {
          "base_uri": "https://localhost:8080/"
        },
        "id": "ki8UCiZOpS26",
        "outputId": "6ad17900-d595-4cde-f30c-6e96d57a7c64"
      },
      "execution_count": 15,
      "outputs": [
        {
          "output_type": "stream",
          "name": "stderr",
          "text": [
            "ERROR:root:Division by zero occurred: division by zero\n"
          ]
        },
        {
          "output_type": "stream",
          "name": "stdout",
          "text": [
            "An error occurred. Check the log file for details.\n"
          ]
        }
      ]
    },
    {
      "cell_type": "code",
      "source": [
        "# 7. How do you log information at different levels (INFO, ERROR, WARNING) in Python using the logging module?\n",
        "\n",
        "import logging\n",
        "\n",
        "# Set up basic configuration\n",
        "logging.basicConfig(\n",
        "    filename='app.log',           # Log file name\n",
        "    level=logging.DEBUG,          # Minimum level to capture\n",
        "    format='%(asctime)s - %(levelname)s - %(message)s'\n",
        ")\n",
        "\n",
        "# Logging at different levels\n",
        "logging.info(\"This is an info message.\")        # General information\n",
        "logging.warning(\"This is a warning message.\")   # Something may go wrong\n",
        "logging.error(\"This is an error message.\")      # An error occurred"
      ],
      "metadata": {
        "colab": {
          "base_uri": "https://localhost:8080/"
        },
        "id": "XbWrFVhkqCVI",
        "outputId": "de6d44d0-b517-4ca8-93ad-93d3563a0917"
      },
      "execution_count": 20,
      "outputs": [
        {
          "output_type": "stream",
          "name": "stderr",
          "text": [
            "WARNING:root:This is a warning message.\n",
            "ERROR:root:This is an error message.\n"
          ]
        }
      ]
    },
    {
      "cell_type": "code",
      "source": [
        "# 8. Write a program to handle a file opening error using exception handling.\n",
        "\n",
        "# Program to handle file opening error\n",
        "\n",
        "try:\n",
        "    # Try to open a file that may not exist\n",
        "    file = open(\"data.txt\", \"r\")\n",
        "    content = file.read()\n",
        "    print(content)\n",
        "    file.close()\n",
        "\n",
        "except FileNotFoundError:\n",
        "    print(\"Error: The file 'data.txt' was not found.\")\n",
        "\n",
        "except PermissionError:\n",
        "    print(\"Error: You do not have permission to open this file.\")\n",
        "\n",
        "except Exception as e:\n",
        "    print(f\"An unexpected error occurred: {e}\")"
      ],
      "metadata": {
        "colab": {
          "base_uri": "https://localhost:8080/"
        },
        "id": "koapJYderMc_",
        "outputId": "e972e99e-5646-40e7-f2c6-e5d17bda94c2"
      },
      "execution_count": 21,
      "outputs": [
        {
          "output_type": "stream",
          "name": "stdout",
          "text": [
            "Error: The file 'data.txt' was not found.\n"
          ]
        }
      ]
    },
    {
      "cell_type": "code",
      "source": [
        "# 9. How can you read a file line by line and store its content in a list in Python?\n",
        "\n",
        "# Program to read a file line by line and store each line in a list\n",
        "\n",
        "# Empty list to store lines\n",
        "lines = []\n",
        "\n",
        "try:\n",
        "    # Open the file in read mode\n",
        "    with open(\"myfile.txt\", \"r\") as file:\n",
        "        for line in file:\n",
        "            # Strip newline characters and add to the list\n",
        "            lines.append(line.strip())\n",
        "\n",
        "    # Print the list of lines\n",
        "    print(\"File content as a list:\")\n",
        "    print(lines)\n",
        "\n",
        "except FileNotFoundError:\n",
        "    print(\"Error: The file 'myfile.txt' does not exist.\")"
      ],
      "metadata": {
        "colab": {
          "base_uri": "https://localhost:8080/"
        },
        "id": "yjX2-K6NujLn",
        "outputId": "5354509d-d7b4-4a58-bb24-4c921a146e3b"
      },
      "execution_count": 22,
      "outputs": [
        {
          "output_type": "stream",
          "name": "stdout",
          "text": [
            "File content as a list:\n",
            "['Hello, this is a sample text.']\n"
          ]
        }
      ]
    },
    {
      "cell_type": "code",
      "source": [
        "# 10. How can you append data to an existing file in Python?\n",
        "\n",
        "# Open the file in append mode\n",
        "with open(\"myfile.txt\", \"a\") as file:\n",
        "    file.write(\"This is new data added to the file.\\n\")"
      ],
      "metadata": {
        "id": "FYp33u1SvYQr"
      },
      "execution_count": 23,
      "outputs": []
    },
    {
      "cell_type": "code",
      "source": [
        "# 11. Write a Python program that uses a try-except block to handle an error when attempting to access a dictionary key that doesn't exist.\n",
        "\n",
        "# Sample dictionary\n",
        "student = {\n",
        "    \"name\": \"Alice\",\n",
        "    \"age\": 20\n",
        "}\n",
        "\n",
        "try:\n",
        "    # Trying to access a key that may not exist\n",
        "    print(\"Student's grade:\", student[\"grade\"])\n",
        "\n",
        "except KeyError:\n",
        "    # Handle the case when the key is not found\n",
        "    print(\"Error: 'grade' key does not exist in the dictionary.\")"
      ],
      "metadata": {
        "colab": {
          "base_uri": "https://localhost:8080/"
        },
        "id": "YP-vV9rWwkm6",
        "outputId": "4eeba9b1-315d-44a0-bc87-c1c65fdaf36d"
      },
      "execution_count": 24,
      "outputs": [
        {
          "output_type": "stream",
          "name": "stdout",
          "text": [
            "Error: 'grade' key does not exist in the dictionary.\n"
          ]
        }
      ]
    },
    {
      "cell_type": "code",
      "source": [
        "# 12.  Write a program that demonstrates using multiple except blocks to handle different types of exceptions.\n",
        "\n",
        "# Program to demonstrate multiple except blocks\n",
        "\n",
        "try:\n",
        "    # Get user input\n",
        "    num1 = int(input(\"Enter a number: \"))\n",
        "    num2 = int(input(\"Enter another number: \"))\n",
        "\n",
        "    # Try to divide the numbers\n",
        "    result = num1 / num2\n",
        "    print(\"Result:\", result)\n",
        "\n",
        "except ZeroDivisionError:\n",
        "    print(\"Error: You can't divide by zero.\")\n",
        "\n",
        "except ValueError:\n",
        "    print(\"Error: Please enter valid numbers only.\")\n",
        "\n",
        "except Exception as e:\n",
        "    print(\"An unexpected error occurred:\", e)"
      ],
      "metadata": {
        "colab": {
          "base_uri": "https://localhost:8080/"
        },
        "id": "TGEWsK4axFNn",
        "outputId": "43435874-9b94-4c4a-f628-fb3fba403b6f"
      },
      "execution_count": 25,
      "outputs": [
        {
          "output_type": "stream",
          "name": "stdout",
          "text": [
            "Enter a number: 5\n",
            "Enter another number: 6\n",
            "Result: 0.8333333333333334\n"
          ]
        }
      ]
    },
    {
      "cell_type": "code",
      "source": [
        "# 13. How would you check if a file exists before attempting to read it in Python?\n",
        "\n",
        "from pathlib import Path\n",
        "\n",
        "file_path = Path(\"myfile.txt\")\n",
        "\n",
        "if file_path.exists():\n",
        "    with file_path.open(\"r\") as file:\n",
        "        content = file.read()\n",
        "        print(content)\n",
        "else:\n",
        "    print(\"The file does not exist.\")"
      ],
      "metadata": {
        "colab": {
          "base_uri": "https://localhost:8080/"
        },
        "id": "3FalqY5JxRxr",
        "outputId": "45041ab7-f062-42b8-ffd4-efcb7c652e8c"
      },
      "execution_count": 27,
      "outputs": [
        {
          "output_type": "stream",
          "name": "stdout",
          "text": [
            "Hello, this is a sample text.This is new data added to the file.\n",
            "\n"
          ]
        }
      ]
    },
    {
      "cell_type": "code",
      "source": [
        "# 14. Write a program that uses the logging module to log both informational and error messages.\n",
        "\n",
        "import logging\n",
        "\n",
        "# Set up basic logging configuration\n",
        "logging.basicConfig(\n",
        "    filename='app.log',             # Log file name\n",
        "    level=logging.DEBUG,            # Minimum level to log\n",
        "    format='%(asctime)s - %(levelname)s - %(message)s'\n",
        ")\n",
        "\n",
        "# Log an informational message\n",
        "logging.info(\"The program has started successfully.\")\n",
        "\n",
        "try:\n",
        "    # Example: divide two numbers\n",
        "    num1 = 10\n",
        "    num2 = 0\n",
        "    result = num1 / num2\n",
        "    logging.info(\"Division result: %s\", result)\n",
        "\n",
        "except ZeroDivisionError as e:\n",
        "    logging.error(\"Error occurred: Division by zero - %s\", e)\n",
        "\n",
        "# Log that the program finished\n",
        "logging.info(\"Program has ended.\")"
      ],
      "metadata": {
        "colab": {
          "base_uri": "https://localhost:8080/"
        },
        "id": "B09EwCgRxth6",
        "outputId": "98ce22f5-6f5a-4fac-8a3e-28e3584c9c34"
      },
      "execution_count": 1,
      "outputs": [
        {
          "output_type": "stream",
          "name": "stderr",
          "text": [
            "ERROR:root:Error occurred: Division by zero - division by zero\n"
          ]
        }
      ]
    },
    {
      "cell_type": "code",
      "source": [
        "# 15. Write a Python program that prints the content of a file and handles the case when the file is empty.\n",
        "\n",
        "# Program to print file content and handle empty file case\n",
        "\n",
        "try:\n",
        "    # Open the file in read mode\n",
        "    with open(\"myfile.txt\", \"r\") as file:\n",
        "        content = file.read()\n",
        "\n",
        "        # Check if the file is empty\n",
        "        if content.strip() == \"\":\n",
        "            print(\"The file is empty.\")\n",
        "        else:\n",
        "            print(\"File content:\")\n",
        "            print(content)\n",
        "\n",
        "except FileNotFoundError:\n",
        "    print(\"Error: The file 'myfile.txt' does not exist.\")"
      ],
      "metadata": {
        "colab": {
          "base_uri": "https://localhost:8080/"
        },
        "id": "UhCAO72atNDu",
        "outputId": "30474c97-435d-4a61-a5c2-ea6b5ce5cbab"
      },
      "execution_count": 2,
      "outputs": [
        {
          "output_type": "stream",
          "name": "stdout",
          "text": [
            "Error: The file 'myfile.txt' does not exist.\n"
          ]
        }
      ]
    },
    {
      "cell_type": "code",
      "source": [
        "# 16.  Demonstrate how to use memory profiling to check the memory usage of a small program.\n",
        "\n",
        "\n",
        "from memory_profiler import profile\n",
        "\n",
        "@profile\n",
        "def process_data():\n",
        "    print(\"Creating a large list...\")\n",
        "    data = [i * 2 for i in range(1000000)]  # Uses a good amount of memory\n",
        "    print(\"Finished processing.\")\n",
        "    return data\n",
        "\n",
        "if __name__ == \"__main__\":\n",
        "    process_data()"
      ],
      "metadata": {
        "id": "TVXflrBytn96"
      },
      "execution_count": null,
      "outputs": []
    },
    {
      "cell_type": "code",
      "source": [
        "# 17. Write a Python program to create and write a list of numbers to a file, one number per line.\n",
        "\n",
        "# List of numbers\n",
        "numbers = [10, 20, 30, 40, 50]\n",
        "\n",
        "# Open a file in write mode\n",
        "with open(\"numbers.txt\", \"w\") as file:\n",
        "    for number in numbers:\n",
        "        file.write(str(number) + \"\\n\")  # Write each number on a new line\n",
        "\n",
        "print(\"Numbers have been written to 'numbers.txt'\")"
      ],
      "metadata": {
        "colab": {
          "base_uri": "https://localhost:8080/"
        },
        "id": "muQKq__5udjY",
        "outputId": "5b65af0d-5aed-4830-a358-1a337de627b5"
      },
      "execution_count": 20,
      "outputs": [
        {
          "output_type": "stream",
          "name": "stdout",
          "text": [
            "Numbers successfully written to my_numbers.txt\n"
          ]
        }
      ]
    },
    {
      "cell_type": "code",
      "source": [
        "# 18. How would you implement a basic logging setup that logs to a file with rotation after 1MB?\n",
        "\n",
        "import logging\n",
        "from logging.handlers import RotatingFileHandler\n",
        "\n",
        "# Step 1: Set up a rotating file handler\n",
        "log_handler = RotatingFileHandler(\n",
        "    \"app.log\",          # Log file name\n",
        "    maxBytes=1 * 1024 * 1024,  # Rotate after 1MB\n",
        "    backupCount=3       # Keep 3 old log files (e.g., app.log.1, app.log.2)\n",
        ")\n",
        "\n",
        "# Step 2: Set logging format\n",
        "formatter = logging.Formatter('%(asctime)s - %(levelname)s - %(message)s')\n",
        "log_handler.setFormatter(formatter)\n",
        "\n",
        "# Step 3: Set up the logger\n",
        "logger = logging.getLogger()\n",
        "logger.setLevel(logging.INFO)\n",
        "logger.addHandler(log_handler)\n",
        "\n",
        "# Step 4: Write logs to test rotation\n",
        "for i in range(10000):\n",
        "    logger.info(\"This is log entry number %d\", i)"
      ],
      "metadata": {
        "collapsed": true,
        "id": "j6oHlsjwFE03"
      },
      "execution_count": null,
      "outputs": []
    },
    {
      "cell_type": "code",
      "source": [
        "# 19. Write a program that handles both IndexError and KeyError using a try-except block.\n",
        "\n",
        "# Program to handle IndexError and KeyError\n",
        "\n",
        "my_list = [10, 20, 30]\n",
        "my_dict = {\"name\": \"Alice\", \"age\": 25}\n",
        "\n",
        "try:\n",
        "    # This will raise an IndexError\n",
        "    print(\"List element:\", my_list[5])\n",
        "\n",
        "    # This will raise a KeyError\n",
        "    print(\"City:\", my_dict[\"city\"])\n",
        "\n",
        "except IndexError:\n",
        "    print(\"Error: Tried to access an invalid index in the list.\")\n",
        "\n",
        "except KeyError:\n",
        "    print(\"Error: Tried to access a non-existent key in the dictionary.\")"
      ],
      "metadata": {
        "colab": {
          "base_uri": "https://localhost:8080/"
        },
        "id": "AVmImcE8GU-T",
        "outputId": "8c1a249b-bcee-4151-e7c0-da2ab34454a0"
      },
      "execution_count": 22,
      "outputs": [
        {
          "output_type": "stream",
          "name": "stdout",
          "text": [
            "Error: Tried to access an invalid index in the list.\n"
          ]
        }
      ]
    },
    {
      "cell_type": "code",
      "source": [
        "# 20. How would you open a file and read its contents using a context manager in Python?\n",
        "\n",
        "# Open and read a file using a context manager\n",
        "with open(\"example.txt\", \"r\") as file:\n",
        "    content = file.read()\n",
        "    print(content)"
      ],
      "metadata": {
        "colab": {
          "base_uri": "https://localhost:8080/",
          "height": 211
        },
        "collapsed": true,
        "id": "1bsmqgSJJSP_",
        "outputId": "906f477e-2c9c-4345-a73b-297df7fe23ec"
      },
      "execution_count": 23,
      "outputs": [
        {
          "output_type": "error",
          "ename": "FileNotFoundError",
          "evalue": "[Errno 2] No such file or directory: 'example.txt'",
          "traceback": [
            "\u001b[0;31m---------------------------------------------------------------------------\u001b[0m",
            "\u001b[0;31mFileNotFoundError\u001b[0m                         Traceback (most recent call last)",
            "\u001b[0;32m/tmp/ipython-input-23-248186565.py\u001b[0m in \u001b[0;36m<cell line: 0>\u001b[0;34m()\u001b[0m\n\u001b[1;32m      2\u001b[0m \u001b[0;34m\u001b[0m\u001b[0m\n\u001b[1;32m      3\u001b[0m \u001b[0;31m# Open and read a file using a context manager\u001b[0m\u001b[0;34m\u001b[0m\u001b[0;34m\u001b[0m\u001b[0m\n\u001b[0;32m----> 4\u001b[0;31m \u001b[0;32mwith\u001b[0m \u001b[0mopen\u001b[0m\u001b[0;34m(\u001b[0m\u001b[0;34m\"example.txt\"\u001b[0m\u001b[0;34m,\u001b[0m \u001b[0;34m\"r\"\u001b[0m\u001b[0;34m)\u001b[0m \u001b[0;32mas\u001b[0m \u001b[0mfile\u001b[0m\u001b[0;34m:\u001b[0m\u001b[0;34m\u001b[0m\u001b[0;34m\u001b[0m\u001b[0m\n\u001b[0m\u001b[1;32m      5\u001b[0m     \u001b[0mcontent\u001b[0m \u001b[0;34m=\u001b[0m \u001b[0mfile\u001b[0m\u001b[0;34m.\u001b[0m\u001b[0mread\u001b[0m\u001b[0;34m(\u001b[0m\u001b[0;34m)\u001b[0m\u001b[0;34m\u001b[0m\u001b[0;34m\u001b[0m\u001b[0m\n\u001b[1;32m      6\u001b[0m     \u001b[0mprint\u001b[0m\u001b[0;34m(\u001b[0m\u001b[0mcontent\u001b[0m\u001b[0;34m)\u001b[0m\u001b[0;34m\u001b[0m\u001b[0;34m\u001b[0m\u001b[0m\n",
            "\u001b[0;31mFileNotFoundError\u001b[0m: [Errno 2] No such file or directory: 'example.txt'"
          ]
        }
      ]
    },
    {
      "cell_type": "code",
      "source": [
        "# 21. Write a Python program that reads a file and prints the number of occurrences of a specific word.\n",
        "\n",
        "# Ask user for the file name and word to search\n",
        "file_name = \"sample.txt\"\n",
        "word_to_count = \"python\"\n",
        "\n",
        "try:\n",
        "    with open(file_name, \"r\") as file:\n",
        "        content = file.read()\n",
        "        # Convert content to lowercase for case-insensitive search\n",
        "        words = content.lower().split()\n",
        "        count = words.count(word_to_count.lower())\n",
        "        print(f\"The word '{word_to_count}' occurred {count} times in '{file_name}'.\")\n",
        "except FileNotFoundError:\n",
        "    print(f\"Error: The file '{file_name}' does not exist.\")"
      ],
      "metadata": {
        "colab": {
          "base_uri": "https://localhost:8080/"
        },
        "id": "Nt7wOEZoKFxU",
        "outputId": "b966f060-ae7f-4607-cf39-0deed9e30990"
      },
      "execution_count": 24,
      "outputs": [
        {
          "output_type": "stream",
          "name": "stdout",
          "text": [
            "Error: The file 'sample.txt' does not exist.\n"
          ]
        }
      ]
    },
    {
      "cell_type": "code",
      "source": [
        "# 22.  How can you check if a file is empty before attempting to read its contents?\n",
        "\n",
        "import os\n",
        "\n",
        "file_path = \"example.txt\"\n",
        "\n",
        "if os.path.getsize(file_path) == 0:\n",
        "    print(\"The file is empty.\")\n",
        "else:\n",
        "    with open(file_path, \"r\") as file:\n",
        "        content = file.read()\n",
        "        print(\"File content:\")\n",
        "        print(content)"
      ],
      "metadata": {
        "colab": {
          "base_uri": "https://localhost:8080/",
          "height": 245
        },
        "collapsed": true,
        "id": "YGM_ciHJKVCq",
        "outputId": "83833e92-e8b4-4585-f9e2-cfd7bb3e6091"
      },
      "execution_count": 25,
      "outputs": [
        {
          "output_type": "error",
          "ename": "FileNotFoundError",
          "evalue": "[Errno 2] No such file or directory: 'example.txt'",
          "traceback": [
            "\u001b[0;31m---------------------------------------------------------------------------\u001b[0m",
            "\u001b[0;31mFileNotFoundError\u001b[0m                         Traceback (most recent call last)",
            "\u001b[0;32m/tmp/ipython-input-25-1288336287.py\u001b[0m in \u001b[0;36m<cell line: 0>\u001b[0;34m()\u001b[0m\n\u001b[1;32m      5\u001b[0m \u001b[0mfile_path\u001b[0m \u001b[0;34m=\u001b[0m \u001b[0;34m\"example.txt\"\u001b[0m\u001b[0;34m\u001b[0m\u001b[0;34m\u001b[0m\u001b[0m\n\u001b[1;32m      6\u001b[0m \u001b[0;34m\u001b[0m\u001b[0m\n\u001b[0;32m----> 7\u001b[0;31m \u001b[0;32mif\u001b[0m \u001b[0mos\u001b[0m\u001b[0;34m.\u001b[0m\u001b[0mpath\u001b[0m\u001b[0;34m.\u001b[0m\u001b[0mgetsize\u001b[0m\u001b[0;34m(\u001b[0m\u001b[0mfile_path\u001b[0m\u001b[0;34m)\u001b[0m \u001b[0;34m==\u001b[0m \u001b[0;36m0\u001b[0m\u001b[0;34m:\u001b[0m\u001b[0;34m\u001b[0m\u001b[0;34m\u001b[0m\u001b[0m\n\u001b[0m\u001b[1;32m      8\u001b[0m     \u001b[0mprint\u001b[0m\u001b[0;34m(\u001b[0m\u001b[0;34m\"The file is empty.\"\u001b[0m\u001b[0;34m)\u001b[0m\u001b[0;34m\u001b[0m\u001b[0;34m\u001b[0m\u001b[0m\n\u001b[1;32m      9\u001b[0m \u001b[0;32melse\u001b[0m\u001b[0;34m:\u001b[0m\u001b[0;34m\u001b[0m\u001b[0;34m\u001b[0m\u001b[0m\n",
            "\u001b[0;32m/usr/lib/python3.11/genericpath.py\u001b[0m in \u001b[0;36mgetsize\u001b[0;34m(filename)\u001b[0m\n",
            "\u001b[0;31mFileNotFoundError\u001b[0m: [Errno 2] No such file or directory: 'example.txt'"
          ]
        }
      ]
    },
    {
      "cell_type": "code",
      "source": [
        "# 23. Write a Python program that writes to a log file when an error occurs during file handling.\n",
        "\n",
        "import logging\n",
        "\n",
        "# Set up logging configuration\n",
        "logging.basicConfig(\n",
        "    filename='error.log',          # Log file name\n",
        "    level=logging.ERROR,           # Log only errors and above\n",
        "    format='%(asctime)s - %(levelname)s - %(message)s'\n",
        ")\n",
        "\n",
        "# File handling with error logging\n",
        "file_name = \"non_existent_file.txt\"\n",
        "\n",
        "try:\n",
        "    with open(file_name, 'r') as file:\n",
        "        content = file.read()\n",
        "        print(content)\n",
        "\n",
        "except FileNotFoundError as e:\n",
        "    print(f\"Error: Cannot open file '{file_name}'\")\n",
        "    logging.error(\"FileNotFoundError: %s\", e)\n",
        "\n",
        "except Exception as e:\n",
        "    print(\"An unexpected error occurred.\")\n",
        "    logging.error(\"Unexpected error: %s\", e)"
      ],
      "metadata": {
        "colab": {
          "base_uri": "https://localhost:8080/"
        },
        "id": "stAqhimTKjzX",
        "outputId": "bb4e5bc2-fad2-41cc-d36e-db22b985d57c"
      },
      "execution_count": 26,
      "outputs": [
        {
          "output_type": "stream",
          "name": "stderr",
          "text": [
            "ERROR:root:FileNotFoundError: [Errno 2] No such file or directory: 'non_existent_file.txt'\n"
          ]
        },
        {
          "output_type": "stream",
          "name": "stdout",
          "text": [
            "Error: Cannot open file 'non_existent_file.txt'\n"
          ]
        }
      ]
    },
    {
      "cell_type": "code",
      "source": [],
      "metadata": {
        "id": "6kOjz33-K0bu"
      },
      "execution_count": null,
      "outputs": []
    }
  ]
}